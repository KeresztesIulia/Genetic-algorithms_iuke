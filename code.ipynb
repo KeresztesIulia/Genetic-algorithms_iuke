{
 "cells": [
  {
   "cell_type": "code",
   "execution_count": 1,
   "metadata": {},
   "outputs": [],
   "source": [
    "import math\n",
    "import random"
   ]
  },
  {
   "cell_type": "markdown",
   "metadata": {},
   "source": [
    "### Built-in functions"
   ]
  },
  {
   "cell_type": "markdown",
   "metadata": {},
   "source": [
    "#### Rastrigin"
   ]
  },
  {
   "cell_type": "code",
   "execution_count": 2,
   "metadata": {},
   "outputs": [],
   "source": [
    "def Rastgirin(X: list[float], A: float) -> float:\n",
    "    n = len(X)\n",
    "    sum = A*n\n",
    "    for i in range(n):\n",
    "        sum += X[i]**2 - A * math.cos(2 * math.pi * X[i])\n",
    "    return sum"
   ]
  },
  {
   "cell_type": "markdown",
   "metadata": {},
   "source": [
    "#### Booth"
   ]
  },
  {
   "cell_type": "code",
   "execution_count": 3,
   "metadata": {},
   "outputs": [],
   "source": [
    "def Booth(x: float, y: float) -> float:\n",
    "    return (x + 2 * y - 7)**2 + (2 * x + y - 5)**2"
   ]
  },
  {
   "cell_type": "markdown",
   "metadata": {},
   "source": [
    "#### Lévi"
   ]
  },
  {
   "cell_type": "code",
   "execution_count": 4,
   "metadata": {},
   "outputs": [],
   "source": [
    "def Lévi(x: float, y: float) -> float:\n",
    "    p1 = math.sin(3 * math.pi * x)**2\n",
    "    p2 = (x - 1)**2 * (1 + math.sin(3 * math.pi * y)**2)\n",
    "    p3 = (y - 1)**2 * (1 + math.sin(2 * math.pi * y)**2)\n",
    "    return p1 + p2 + p3"
   ]
  },
  {
   "cell_type": "markdown",
   "metadata": {},
   "source": [
    "#### functions"
   ]
  },
  {
   "cell_type": "code",
   "execution_count": 6,
   "metadata": {},
   "outputs": [],
   "source": [
    "def fitness_functions(function_name: str, A: float, genes: list[float]):\n",
    "    match function_name:\n",
    "            case \"Rastgirin\":\n",
    "                if A == None:\n",
    "                    raise ValueError(\"No A value given for the Rastrigin function!\")\n",
    "                return Rastgirin(genes, A)\n",
    "            case \"Booth\":\n",
    "                if len(genes) != 2:\n",
    "                    raise ValueError(\"Too many genes given!\")\n",
    "                return Booth(genes[0], genes[1])\n",
    "            case \"Lévi\":\n",
    "                if len(genes) != 2:\n",
    "                    raise ValueError(\"Too many genes given!\")\n",
    "                return Lévi(genes[0], genes[1])\n",
    "            case _:\n",
    "                raise ValueError(f'\"{function_name}\" is not one of the built-in functions that can be used. Options: \"Rastgirin\", \"Booth\", \"Lévi\"')    "
   ]
  },
  {
   "cell_type": "code",
   "execution_count": 7,
   "metadata": {},
   "outputs": [],
   "source": [
    "def randfloat(start: float = 0, end: float = 1, n: int = 1):\n",
    "    rangelen = end - start\n",
    "    if n == 1:\n",
    "        return random.random() * rangelen + start\n",
    "    else:\n",
    "        X = []\n",
    "        for i in range(n):\n",
    "            X.append(random.random() * rangelen + start)\n",
    "        return X"
   ]
  },
  {
   "cell_type": "markdown",
   "metadata": {},
   "source": [
    "### Genetic Algorithm functions"
   ]
  },
  {
   "cell_type": "code",
   "execution_count": 68,
   "metadata": {},
   "outputs": [],
   "source": [
    "class Chromosome:\n",
    "    def __init__(self):\n",
    "        self.genes = []\n",
    "        self.fitness = None\n",
    "        self.function_value = None\n",
    "        self.probability = None\n",
    "        self.diversity = None\n",
    "        self.rank = None\n",
    "    \n",
    "    #------- operator operloads -------#\n",
    "    def __eq__(self, other):\n",
    "        if self.genes != other.genes:\n",
    "            return False\n",
    "        if self.fitness != other.fitness:\n",
    "            return False\n",
    "        if self.function_value != other.function_value:\n",
    "            return False\n",
    "        if self.probability != other.probability:\n",
    "            return False\n",
    "        if self.diversity != other.diversity:\n",
    "            return False\n",
    "        return True\n",
    "    \n",
    "    def __ne__(self, other):\n",
    "        return not self == other\n",
    "    \n",
    "    def __lt__(self, other):\n",
    "        return self.fitness < other.fitness\n",
    "    def __gt__(self, other):\n",
    "        return self.fitness > other.fitness\n",
    "    def __le__(self, other):\n",
    "        return self.fitness <= other.fitness\n",
    "    def __ge__(self, other):\n",
    "        return self.fitness >= other.fitness\n",
    "    \n",
    "\n",
    "    #---- other ----#\n",
    "    def calculate_fitness(self, fitness_function: str, A: float = None):\n",
    "        # fitness_function = \"Rastgirin\", \"Booth\", \"Lévi\"\n",
    "        self.function_value = fitness_functions(fitness_function, A, self.genes)\n",
    "        self.fitness = 1/self.function_value\n",
    "\n",
    "    def calculate_probabilities(chromosomes: list, method: str = \"relative\", P: int = None):\n",
    "        # method = \"relative\", \"fitness_rank\", \"diversity_and_fitness_rank\"\n",
    "        # P only for rank methods\n",
    "\n",
    "        if not(method == \"relative\" or method == \"fitness_rank\" or method == \"diversity_and_fitness_rank\"):\n",
    "            raise ValueError(f'\"{method}\" is not a built-in probability method. Options: \"relative\", \"fitness_rank\", \"diversity_and_fitness_rank\", \"double_fitness_diversity_rank\"')\n",
    "\n",
    "        Chromosome.calculate_diversity(chromosomes)\n",
    "        if method == \"relative\":\n",
    "            fitness_sum = 0\n",
    "            for chromosome in chromosomes:\n",
    "                fitness_sum += chromosome.fitness\n",
    "\n",
    "            for chromosome in chromosomes:\n",
    "                chromosome.probability = chromosome.fitness / fitness_sum\n",
    "            return\n",
    "        \n",
    "        if method.endswith(\"fitness_rank\"):\n",
    "            chromosomes.sort(reverse=True)\n",
    "            for i in range(len(chromosomes)):\n",
    "                chromosomes[i].rank = i\n",
    "\n",
    "        if method == \"diversity_and_fitness_rank\":\n",
    "            chromosomes.sort(key=lambda chr: chr.diversity, reverse=True)\n",
    "            for i in range(len(chromosomes)):\n",
    "                chromosomes[i].rank += i\n",
    "\n",
    "        \n",
    "        \n",
    "        if method.endswith(\"rank\") and P != None:\n",
    "            chromosomes.sort(key=lambda chr: chr.rank)\n",
    "            n = len(chromosomes)\n",
    "            for i in range(n):\n",
    "                if i < n-1:\n",
    "                    chromosomes[i].probability = (1 - P)**i * P\n",
    "                else:\n",
    "                    chromosomes[i].probability = (1 - P)**i\n",
    "        else:\n",
    "            raise ValueError(\"Probability needed to calculate probabilities based on rank!\")\n",
    "\n",
    "    def calculate_diversity(chromosomes: list):\n",
    "        dists = {}\n",
    "        n = len(chromosomes)\n",
    "        for i in range(n):\n",
    "            for j in range(i, n):\n",
    "                dists[(i,j)] = math.dist(chromosomes[i].genes, chromosomes[j].genes)\n",
    "        \n",
    "        for i in range(n):\n",
    "            chromosomes[i].diversity = 0\n",
    "            for j in range(n):\n",
    "                if i == j:\n",
    "                    continue\n",
    "                if i < j:\n",
    "                    chromosomes[i].diversity += dists[(i,j)]\n",
    "                else:\n",
    "                    chromosomes[i].diversity += dists[(j,i)]"
   ]
  },
  {
   "cell_type": "code",
   "execution_count": 64,
   "metadata": {},
   "outputs": [],
   "source": [
    "def print_population(population: list[Chromosome]):\n",
    "    for individual in population:\n",
    "        print(f\"{individual.genes} - fitness: {individual.fitness}, diversity: {individual.diversity}, probability: {individual.probability}\")"
   ]
  },
  {
   "cell_type": "code",
   "execution_count": 65,
   "metadata": {},
   "outputs": [],
   "source": [
    "import random\n",
    "import matplotlib.pyplot as plt\n",
    "import numpy as np\n",
    "import copy\n",
    "\n",
    "class GeneticAlgorithm:\n",
    "    def __init__(self, fitness_function: str = \"Booth\", probability_method: str = \"relative\", selection_method: str = \"roulette\", mutation_type: str = \"any\",\n",
    "                 A: float = None, P: float = None, contestants: int = 2, min_gene_value: float = -10, max_gene_value: float = 10, crossover_points: int = 1,\n",
    "                 elite_count: int = 1, elite_pool: int = 0, elite_mutation_rate: float = 0.2,\n",
    "                 mutation_rate: float = 0.4, mutation_amount: float = 1.5, mutation_decay: float = 1):\n",
    "\n",
    "        if fitness_function == \"Rastgirin\" and A == None:\n",
    "            raise ValueError(\"'A' value needed for Rastrigin function!\")\n",
    "        \n",
    "        if mutation_type != \"one\" and mutation_type != \"all\" and mutation_type != \"any\":\n",
    "            raise ValueError(f'\"{mutation_type}\" is not a built-in mutation type. Options: \"one\" (changes one gene of the chromosome), \"all\" (changes all genes of the chromosome), \"any\" (all genes are evaluated separately whether they should be mutated or not.)')\n",
    "        \n",
    "        if probability_method.endswith(\"rank\") and P == None:\n",
    "            raise ValueError(\"'P' probability parameter needed in rank-based probability calculation!\")\n",
    "        \n",
    "        if crossover_points < 1:\n",
    "            raise ValueError(\"At least one cross-over point in needed!\")\n",
    "        \n",
    "        if (P != None and (P < 0 or P > 1)) or (elite_mutation_rate < 0 or elite_mutation_rate > 1) or (mutation_rate < 0 or mutation_rate > 1):\n",
    "            raise ValueError(\"Probabilities have to be given from the [0, 1] interval!\")\n",
    "\n",
    "        if mutation_decay < 0 or mutation_decay > 1:\n",
    "            raise ValueError(\"Mutation decay is supposed to be a value between 0 and 1!\")\n",
    "\n",
    "        if selection_method == \"tournament\" and contestants < 1:\n",
    "            raise ValueError(\"At least 2 contestants needed for the tournament selection!\")\n",
    "\n",
    "        if elite_count < 0:\n",
    "            elite_count = 0\n",
    "        \n",
    "        if elite_pool < 2:\n",
    "            elite_pool = 0\n",
    "\n",
    "        if mutation_amount < 0:\n",
    "            mutation_amount *= -1\n",
    "        \n",
    "        random.seed()\n",
    "        \n",
    "        self.fitness_funtion = fitness_function\n",
    "        self.probability_method = probability_method\n",
    "        self.selection_method = selection_method\n",
    "        self.mutation_type = mutation_type\n",
    "\n",
    "        self.A = A\n",
    "        self.P = P\n",
    "        self.contestants = contestants\n",
    "        self.min_gene_value = min_gene_value\n",
    "        self.max_gene_value = max_gene_value\n",
    "        self.crossover_points = crossover_points\n",
    "\n",
    "        self.elite_count = elite_count\n",
    "        self.elite_pool = elite_pool\n",
    "        self.elite_mutation_rate = elite_mutation_rate\n",
    "        self.mutation_rate = mutation_rate\n",
    "        self.mutation_amount = mutation_amount\n",
    "        self.mutation_decay = mutation_decay\n",
    "\n",
    "        if (mutation_decay < 1):\n",
    "            self.min_mutation = mutation_rate * mutation_decay\n",
    "            self.interval = mutation_rate - self.min_mutation\n",
    "            self.min_elite_mutation = elite_mutation_rate * mutation_decay\n",
    "            self.elite_interval = elite_mutation_rate - self.min_elite_mutation\n",
    "\n",
    "        self.function_values = []\n",
    "        self.stop = False\n",
    "\n",
    "\n",
    "    def random_chromosome(self, gene_count: int = 2) -> Chromosome:\n",
    "        if gene_count < 2:\n",
    "            raise ValueError(\"At least two genes are needed!\")\n",
    "        if self.fitness_funtion != \"Rastgirin\" and gene_count > 2:\n",
    "            raise ValueError(f\"In the case of the {self.fitness_funtion} function, chromosomes need to have exactly two genes!\")\n",
    "        new_chromosome = Chromosome()\n",
    "        new_chromosome.genes = randfloat(self.min_gene_value, self.max_gene_value, gene_count)\n",
    "        new_chromosome.calculate_fitness(self.fitness_funtion, self.A)\n",
    "        return new_chromosome\n",
    "    \n",
    "    def copy_chromosome(chromosome: Chromosome) -> Chromosome:\n",
    "        new_chromosome = copy.deepcopy(chromosome)\n",
    "        return new_chromosome\n",
    "    \n",
    "    #-------------------------------------------------------------------------------------------------------------\n",
    "    \n",
    "    def mutate_gene(gene_value: float, mutation_amount: float, min_value: float, max_value: float):\n",
    "        return randfloat(max(gene_value - mutation_amount, min_value), min(gene_value + mutation_amount, max_value))\n",
    "\n",
    "    def mutate(self, individual: Chromosome, individual_type: str = \"non-elite\"):\n",
    "        if individual_type == \"elite\":\n",
    "            mutation_rate = self.elite_mutation_rate\n",
    "        elif individual_type == \"non-elite\":\n",
    "            mutation_rate = self.mutation_rate\n",
    "        else:\n",
    "            raise ValueError(f'\"{individual_type}\" is not a valid chromosome type for mutation. Options: \"elite\", \"non-elite\"')\n",
    "\n",
    "        match self.mutation_type:\n",
    "            case \"any\":\n",
    "                mutated_individual = GeneticAlgorithm.copy_chromosome(individual)\n",
    "                n = len(mutated_individual.genes)\n",
    "                for i in range(n):\n",
    "                    should_mutate = True if random.random() < mutation_rate else False\n",
    "                    if should_mutate:\n",
    "                        mutated_individual.genes[i] = GeneticAlgorithm.mutate_gene(mutated_individual.genes[i], self.mutation_amount, self.min_gene_value, self.max_gene_value)\n",
    "                    mutated_individual.calculate_fitness(self.fitness_funtion, self.A)\n",
    "                return mutated_individual\n",
    "            case \"all\":\n",
    "                new_individual = GeneticAlgorithm.copy_chromosome(individual)\n",
    "                should_mutate = True if random.random() < mutation_rate else False\n",
    "                if should_mutate:\n",
    "                    n = len(new_individual.genes)\n",
    "                    for i in range(n):\n",
    "                        gene_value = new_individual.genes[i]\n",
    "                        new_individual.genes[i] = GeneticAlgorithm.mutate_gene(gene_value, self.mutation_amount, self.min_gene_value, self.max_gene_value)\n",
    "                    new_individual.calculate_fitness(self.fitness_funtion, self.A)\n",
    "                return new_individual\n",
    "            case \"one\":\n",
    "                new_individual = GeneticAlgorithm.copy_chromosome(individual)\n",
    "                should_mutate = True if random.random() < mutation_rate else False\n",
    "                if should_mutate:\n",
    "                    gene_index = random.randint(0, len(new_individual.genes) - 1)\n",
    "                    gene_value = new_individual.genes[gene_index]\n",
    "                    new_individual.genes[gene_index] = GeneticAlgorithm.mutate_gene(gene_value, self.mutation_amount, self.min_gene_value, self.max_gene_value)\n",
    "                    new_individual.calculate_fitness(self.fitness_funtion, self.A)\n",
    "                return new_individual\n",
    "            case _:\n",
    "                raise ValueError(f'\"{self.mutation_type}\" is not a built-in mutation type! Options: \"one\", \"all\", \"any\"')\n",
    "\n",
    "    def decay_mutation(self, generation_index, generation_count):\n",
    "        x = generation_index / generation_count\n",
    "        value = math.sqrt(1 - x**5)\n",
    "        return value * self.interval + self.min_mutation, value * self.elite_interval + self.min_elite_mutation\n",
    "    \n",
    "    #--------------------------------------------------------------------------------------------------------------\n",
    "    \n",
    "    def max_probability(pool: list[Chromosome]) -> float:\n",
    "        sum_probability = 0\n",
    "        for individual in pool:\n",
    "            sum_probability += individual.probability\n",
    "        return sum_probability\n",
    "\n",
    "    def select_one(pool: list[Chromosome], selection_method: str, max_probability: float = 1, contestants: int = 2):\n",
    "        match selection_method:\n",
    "            case \"roulette\":\n",
    "                pool.sort(key = lambda p: p.probability)\n",
    "                probability_threshold = pool[0].probability\n",
    "                i = 0\n",
    "                select_point = random.random() * max_probability\n",
    "                while select_point > probability_threshold and i < len(pool) - 1:\n",
    "                    i += 1\n",
    "                    probability_threshold += pool[i].probability\n",
    "                return pool[i]\n",
    "            case \"tournament\":\n",
    "                if (len(pool) - 1 < contestants): raise ValueError(\"At least one individual has to stay out of the tournament!\")\n",
    "                indices = random.sample(range(len(pool)), contestants)\n",
    "                contestant_list = [pool[i] for i in indices]\n",
    "                return max(contestant_list)\n",
    "            case _:\n",
    "                raise ValueError(f'\"{selection_method}\" is not a built-in selection algorithm! Options: \"roulette\", \"tournament\", \"SUS\"')\n",
    "\n",
    "    def selection(pool: list[Chromosome], selection_method: str, max_probability: float = 1, contestants: int = 2):\n",
    "        if selection_method == \"SUS\":\n",
    "            pool.sort(key = lambda p: p.probability)\n",
    "\n",
    "            probability_threshold = pool[0].probability\n",
    "            i = 0\n",
    "            select_point = randfloat(0, 0.5 * max_probability)\n",
    "            while select_point > probability_threshold and i < len(pool) - 1:\n",
    "                i += 1\n",
    "                probability_threshold += pool[i].probability\n",
    "            parent1 = pool[i]\n",
    "            select_point += 0.5 * max_probability\n",
    "            while select_point > probability_threshold and i < len(pool) - 1:\n",
    "                i += 1\n",
    "                probability_threshold += pool[i].probability\n",
    "            parent2 = pool[i]\n",
    "        else:\n",
    "            parent1 = GeneticAlgorithm.select_one(pool, selection_method, max_probability, contestants)\n",
    "            parent2 = GeneticAlgorithm.select_one(pool, selection_method, max_probability, contestants)\n",
    "            i = 0\n",
    "            while parent1 == parent2 and i < 1000:\n",
    "                parent2 = GeneticAlgorithm.select_one(pool, selection_method, max_probability, contestants)\n",
    "                i += 1\n",
    "        return parent1, parent2\n",
    "\n",
    "    #--------------------------------------------------------------------------------------------------------------\n",
    "\n",
    "    def crossover(self, parent1: Chromosome, parent2: Chromosome):\n",
    "        if len(parent1.genes) != len(parent2.genes):\n",
    "            raise ValueError(\"The parents need to have the same number of genes!\")\n",
    "        \n",
    "        child = GeneticAlgorithm.copy_chromosome(parent1)\n",
    "        chromosome_length = len(child.genes)\n",
    "\n",
    "        crossover_indices = [i+1 for i in random.sample(list(range(chromosome_length - 1)), self.crossover_points)]\n",
    "        crossover_indices.sort()\n",
    "        cross = False\n",
    "        gene_index = 0\n",
    "        ci_index = 0\n",
    "        \n",
    "        while gene_index < chromosome_length:\n",
    "            if ci_index != len(crossover_indices) and gene_index == crossover_indices[ci_index]:\n",
    "                cross = not cross\n",
    "                ci_index += 1\n",
    "            if cross:\n",
    "                child.genes[gene_index] = parent2.genes[gene_index]\n",
    "            gene_index += 1\n",
    "        child.calculate_fitness(self.fitness_funtion, self.A)\n",
    "        child = self.mutate(child, \"non-elite\")\n",
    "        return child\n",
    "\n",
    "    def next_generation(self, population: list[Chromosome]) -> list[Chromosome]:\n",
    "        if self.elite_count > len(population) or self.elite_pool > len(population):\n",
    "            raise ValueError(\"Elite individuals can't be more than the population in a generation!\")\n",
    "        \n",
    "        if self.crossover_points > len(population[0].genes) - 1:\n",
    "            raise ValueError(f\"Given the number of genes, a maximum of {len(population[0].genes) - 1} crossover points are possible!\")\n",
    "        \n",
    "        if population[0].probability == None:\n",
    "            raise ValueError(f\"Probabilities have to be calculated before creating the next generation!\")\n",
    "\n",
    "        \n",
    "        new_population = []\n",
    "        population.sort(reverse = True)\n",
    "\n",
    "        for i in range(self.elite_count):\n",
    "            new_population.append(self.mutate(population[i], \"elite\"))\n",
    "\n",
    "        max_probability = 1\n",
    "        if self.elite_pool > 1:\n",
    "            pool = population[:self.elite_pool]\n",
    "            max_probability = GeneticAlgorithm.max_probability(pool)\n",
    "        else:\n",
    "            pool = population\n",
    "            \n",
    "        if GeneticAlgorithm.all_identical_population(pool):\n",
    "            self.stop = True\n",
    "            return population\n",
    "        \n",
    "        while len(new_population) < len(population):\n",
    "            parent1, parent2 = GeneticAlgorithm.selection(pool, self.selection_method, max_probability, self.contestants)\n",
    "            child = self.crossover(parent1, parent2)\n",
    "            new_population.append(child)\n",
    "            if len(new_population) < len(population):\n",
    "                new_population.append(self.mutate(parent1) if parent1 > parent2 else self.mutate(parent2))\n",
    "\n",
    "        Chromosome.calculate_probabilities(new_population, self.probability_method, self.P)\n",
    "        return new_population\n",
    "    \n",
    "    def run_algorithm(self, initial_population: list[Chromosome], generation_count: int = 50, diversity_limit: float = 0, visualize: bool = False, save_convergence: bool = False):        \n",
    "        if visualize:\n",
    "            if len(initial_population[0].genes) > 2:\n",
    "                raise ValueError(\"Visualization only available for two dimensions!s\")\n",
    "            self.visualize_population(initial_population)\n",
    "            plt.gca().set_title(\"Starting population\")\n",
    "       \n",
    "        if save_convergence:\n",
    "            best_function_values = [min(initial_population).function_value]\n",
    "            worst_function_values = [max(initial_population).function_value]\n",
    "\n",
    "        Chromosome.calculate_probabilities(initial_population, self.probability_method, self.P)\n",
    "        population = copy.deepcopy(initial_population)\n",
    "\n",
    "        for i in range(generation_count):\n",
    "            population = self.next_generation(population)\n",
    "            if self.stop:\n",
    "                print(f\"Stopped after {i+1} generations\")\n",
    "                break\n",
    "\n",
    "            if i == generation_count // 2 and visualize:\n",
    "                self.visualize_population(population)\n",
    "                plt.gca().set_title(\"Middle generation\")\n",
    "            if save_convergence:\n",
    "                best_function_values.append(min(population).function_value)\n",
    "                worst_function_values.append(max(population).function_value)\n",
    "            if diversity_limit > 0 and max(population, key=lambda i: i.diversity).diversity < diversity_limit:\n",
    "                break\n",
    "            if self.mutation_decay < 1:\n",
    "                self.mutation_rate, self.elite_mutation_rate = self.decay_mutation(i, generation_count)\n",
    "\n",
    "        if visualize:\n",
    "                self.visualize_population(population)\n",
    "                plt.gca().set_title(f\"Last generation ({i+1})\")\n",
    "\n",
    "        if save_convergence:\n",
    "            return population, best_function_values, worst_function_values\n",
    "        return population\n",
    "\n",
    "    #--------------------------------------------------------------------------------------------------------------\n",
    "    def all_identical_population(population: list[Chromosome]) -> bool:\n",
    "        first = population[0]\n",
    "        for individual in population:\n",
    "            if individual != first:\n",
    "                return False\n",
    "        return True\n",
    "\n",
    "    def visualize_population(self, population: list[Chromosome]):\n",
    "        if self.function_values == []:\n",
    "            XY = np.linspace(self.min_gene_value, self.max_gene_value, 200)\n",
    "            for y in reversed(XY):\n",
    "                z = []\n",
    "                for x in XY:\n",
    "                    z.append(fitness_functions(self.fitness_funtion, self.A, [x,y]))\n",
    "                self.function_values.append(z)\n",
    "            del z, XY\n",
    "        \n",
    "        _, ax = plt.subplots()\n",
    "        ax.imshow(self.function_values)\n",
    "        for individual in population:\n",
    "            x, y = individual.genes\n",
    "            new_range = len(self.function_values)\n",
    "            x = new_range*(x - self.min_gene_value)/(self.max_gene_value - self.min_gene_value)\n",
    "            y = new_range*(self.max_gene_value - y)/(self.max_gene_value - self.min_gene_value)\n",
    "            plt.plot(x, y, 'r*')\n",
    "\n",
    "        n_ticks = 5\n",
    "        ticks = np.linspace(0, len(self.function_values), n_ticks)\n",
    "        ticklabels = np.round(np.linspace(self.min_gene_value, self.max_gene_value, n_ticks), 2)\n",
    "        plt.xticks(ticks, ticklabels)\n",
    "        plt.yticks(ticks, reversed(ticklabels))\n",
    "        "
   ]
  },
  {
   "cell_type": "markdown",
   "metadata": {},
   "source": [
    "## Running different algorithms"
   ]
  },
  {
   "cell_type": "markdown",
   "metadata": {},
   "source": [
    "#### GA_base\n",
    "Parameters:\n",
    "- function calculated: Booth\n",
    "- probability: relative\n",
    "- selection method: roulette\n",
    "- elitek száma: 1 (5 kromoszóma esetén), 2 (10 kromoszóma), 5 (20 kromoszóma), 10 (50 kromoszóma), 15 (100 kromoszóma)"
   ]
  },
  {
   "cell_type": "code",
   "execution_count": null,
   "metadata": {},
   "outputs": [],
   "source": [
    "GA_base = GeneticAlgorithm(elite_count=10)\n",
    "\n",
    "population: list[Chromosome] = []\n",
    "population_size = 100\n",
    "for i in range(population_size):\n",
    "    population.append(GA_base.random_chromosome())"
   ]
  },
  {
   "cell_type": "code",
   "execution_count": null,
   "metadata": {},
   "outputs": [],
   "source": [
    "save_convergence = True\n",
    "if save_convergence:\n",
    "    final_population, bfv, wfv = GA_base.run_algorithm(population, generation_count=100, visualize=True, save_convergence=True, diversity_limit=0.5)\n",
    "else:\n",
    "    final_population = GA_base.run_algorithm(population, generation_count=100, visualize=True, save_convergence=False)"
   ]
  },
  {
   "cell_type": "code",
   "execution_count": null,
   "metadata": {},
   "outputs": [],
   "source": [
    "best = max(final_population)\n",
    "print(len(bfv))\n",
    "print(best.function_value)\n",
    "best.genes"
   ]
  },
  {
   "cell_type": "code",
   "execution_count": null,
   "metadata": {},
   "outputs": [],
   "source": [
    "plt.fill_between(range(len(bfv)), bfv, wfv, color=\"lightgray\")\n",
    "plt.plot(bfv, linewidth=2)\n",
    "plt.plot(wfv, linewidth=2)\n",
    "plt.gca().set_title(\"Best and worst values per generation\")"
   ]
  },
  {
   "cell_type": "markdown",
   "metadata": {},
   "source": [
    "### Booth"
   ]
  },
  {
   "cell_type": "markdown",
   "metadata": {},
   "source": [
    "#### GA_BRT\n",
    "Parameters:\n",
    "- function calculated: Booth\n",
    "- probability: relative\n",
    "- selection method: tournament"
   ]
  },
  {
   "cell_type": "code",
   "execution_count": 54,
   "metadata": {},
   "outputs": [],
   "source": [
    "GA_BRT = GeneticAlgorithm(elite_count=15, selection_method=\"tournament\", contestants=5, elite_pool=80, elite_mutation_rate = 0.2, mutation_rate=0.4, mutation_decay=0.7, mutation_type=\"any\")\n",
    "\n",
    "population: list[Chromosome] = []\n",
    "population_size = 100\n",
    "for i in range(population_size):\n",
    "    population.append(GA_BRT.random_chromosome())"
   ]
  },
  {
   "cell_type": "code",
   "execution_count": null,
   "metadata": {},
   "outputs": [],
   "source": [
    "save_convergence = True\n",
    "if save_convergence:\n",
    "    final_population, bfv, wfv = GA_BRT.run_algorithm(population, generation_count=100, visualize=True, save_convergence=True, diversity_limit=0.5)\n",
    "else:\n",
    "    final_population = GA_BRT.run_algorithm(population, generation_count=20, visualize=True, save_convergence=False)"
   ]
  },
  {
   "cell_type": "code",
   "execution_count": null,
   "metadata": {},
   "outputs": [],
   "source": [
    "best = max(final_population)\n",
    "print(best.function_value)\n",
    "print(best.genes)\n",
    "\n",
    "plt.fill_between(range(len(bfv)), bfv, wfv, color=\"lightgray\")\n",
    "plt.plot(bfv, linewidth=2)\n",
    "plt.plot(wfv, linewidth=2)\n",
    "plt.gca().set_title(\"Best and worst values per generation\")"
   ]
  },
  {
   "cell_type": "markdown",
   "metadata": {},
   "source": [
    "#### GA_BRS\n",
    "Parameters:\n",
    "- function calculated: Booth\n",
    "- probability: relative\n",
    "- selection method: Stochastic Universal Sampling"
   ]
  },
  {
   "cell_type": "code",
   "execution_count": 185,
   "metadata": {},
   "outputs": [],
   "source": [
    "GA_BRS = GeneticAlgorithm(selection_method=\"SUS\", elite_count=15, elite_pool=80, mutation_decay=0.5, elite_mutation_rate=0.3,mutation_amount=0.5, mutation_type=\"one\")\n",
    "\n",
    "population: list[Chromosome] = []\n",
    "population_size = 100\n",
    "for i in range(population_size):\n",
    "    population.append(GA_BRS.random_chromosome())"
   ]
  },
  {
   "cell_type": "code",
   "execution_count": null,
   "metadata": {},
   "outputs": [],
   "source": [
    "save_convergence = True\n",
    "if save_convergence:\n",
    "    final_population, bfv, wfv = GA_BRS.run_algorithm(population, generation_count=100, visualize=True, save_convergence=True, diversity_limit=0.5)\n",
    "else:\n",
    "    final_population = GA_BRS.run_algorithm(population, generation_count=100, visualize=True, save_convergence=False)"
   ]
  },
  {
   "cell_type": "code",
   "execution_count": null,
   "metadata": {},
   "outputs": [],
   "source": [
    "best = max(final_population)\n",
    "print(best.function_value)\n",
    "print(best.genes)\n",
    "\n",
    "plt.fill_between(range(len(bfv)), bfv, wfv, color=\"lightgray\")\n",
    "plt.plot(bfv, linewidth=2)\n",
    "plt.plot(wfv, linewidth=2)\n",
    "plt.gca().set_title(\"Best and worst values per generation\")"
   ]
  },
  {
   "cell_type": "markdown",
   "metadata": {},
   "source": [
    "#### GA_BFR\n",
    "Parameters:\n",
    "- function calculated: Booth\n",
    "- probability: fitness rank\n",
    "- selection method: roulette"
   ]
  },
  {
   "cell_type": "code",
   "execution_count": 1697,
   "metadata": {},
   "outputs": [],
   "source": [
    "GA_BfR = GeneticAlgorithm(probability_method=\"fitness_rank\", P=0.35, elite_count=20, elite_pool=80,mutation_decay=0.8, mutation_amount=0.5)\n",
    "\n",
    "population: list[Chromosome] = []\n",
    "population_size = 100\n",
    "for i in range(population_size):\n",
    "    population.append(GA_BfR.random_chromosome())"
   ]
  },
  {
   "cell_type": "code",
   "execution_count": null,
   "metadata": {},
   "outputs": [],
   "source": [
    "save_convergence = True\n",
    "if save_convergence:\n",
    "    final_population, bfv, wfv = GA_BfR.run_algorithm(population, generation_count=10000, visualize=True, save_convergence=True, diversity_limit=0.5)\n",
    "else:\n",
    "    final_population = GA_BfR.run_algorithm(population, generation_count=100, visualize=True, save_convergence=False)"
   ]
  },
  {
   "cell_type": "code",
   "execution_count": null,
   "metadata": {},
   "outputs": [],
   "source": [
    "best = max(final_population)\n",
    "print(best.function_value)\n",
    "print(best.genes)\n",
    "\n",
    "last_few = 80\n",
    "#plt.fill_between(range(len(bfv)), bfv, wfv, color=\"lightgray\")\n",
    "plt.fill_between(range(last_few), bfv[-last_few:], wfv[-last_few:], color=\"lightgray\")\n",
    "plt.plot(bfv[-last_few:], linewidth=2)\n",
    "plt.plot(wfv[-last_few:], linewidth=2)\n",
    "plt.gca().set_title(\"Best and worst values per generation\")"
   ]
  },
  {
   "cell_type": "markdown",
   "metadata": {},
   "source": [
    "#### GA_BFT\n",
    "Parameters:\n",
    "- function calculated: Booth\n",
    "- probability: fitness rank\n",
    "- selection method: tournament"
   ]
  },
  {
   "cell_type": "code",
   "execution_count": 1712,
   "metadata": {},
   "outputs": [],
   "source": [
    "GA_BfT = GeneticAlgorithm(probability_method=\"fitness_rank\", selection_method=\"tournament\", contestants=3, P=0.35, elite_pool=80, elite_count=15, mutation_amount=0.5, mutation_rate=0.7, mutation_type=\"any\", elite_mutation_rate=0.5, mutation_decay=0.5)\n",
    "\n",
    "population: list[Chromosome] = []\n",
    "population_size = 100\n",
    "for i in range(population_size):\n",
    "    population.append(GA_BfT.random_chromosome())"
   ]
  },
  {
   "cell_type": "code",
   "execution_count": null,
   "metadata": {},
   "outputs": [],
   "source": [
    "save_convergence = True\n",
    "if save_convergence:\n",
    "    final_population, bfv, wfv = GA_BfT.run_algorithm(population, generation_count=10000, visualize=True, save_convergence=True, diversity_limit=0.5)\n",
    "else:\n",
    "    final_population = GA_BfT.run_algorithm(population, generation_count=100, visualize=True, save_convergence=False)"
   ]
  },
  {
   "cell_type": "code",
   "execution_count": null,
   "metadata": {},
   "outputs": [],
   "source": [
    "best = max(final_population)\n",
    "print(best.function_value)\n",
    "print(best.genes)\n",
    "\n",
    "plt.fill_between(range(len(bfv)), bfv, wfv, color=\"lightgray\")\n",
    "plt.plot(bfv, linewidth=2)\n",
    "plt.plot(wfv, linewidth=2)\n",
    "plt.gca().set_title(\"Best and worst values per generation\")"
   ]
  },
  {
   "cell_type": "markdown",
   "metadata": {},
   "source": [
    "#### GA_BFS\n",
    "Parameters:\n",
    "- function calculated: Booth\n",
    "- probability: fitness rank\n",
    "- selection method: SUS"
   ]
  },
  {
   "cell_type": "code",
   "execution_count": 308,
   "metadata": {},
   "outputs": [],
   "source": [
    "GA_BfS = GeneticAlgorithm(probability_method=\"fitness_rank\", selection_method=\"SUS\", P=0.35, elite_count=15, elite_pool=80, mutation_amount=1, mutation_decay=0.7, mutation_type=\"one\")\n",
    "\n",
    "population: list[Chromosome] = []\n",
    "population_size = 100\n",
    "for i in range(population_size):\n",
    "    population.append(GA_BfS.random_chromosome())"
   ]
  },
  {
   "cell_type": "code",
   "execution_count": null,
   "metadata": {},
   "outputs": [],
   "source": [
    "save_convergence = True\n",
    "if save_convergence:\n",
    "    final_population, bfv, wfv = GA_BfS.run_algorithm(population, generation_count=100, visualize=True, save_convergence=True, diversity_limit=0.5)\n",
    "else:\n",
    "    final_population = GA_BfS.run_algorithm(population, generation_count=100, visualize=True, save_convergence=False)"
   ]
  },
  {
   "cell_type": "code",
   "execution_count": null,
   "metadata": {},
   "outputs": [],
   "source": [
    "best = max(final_population)\n",
    "print(best.function_value)\n",
    "print(best.genes)\n",
    "\n",
    "plt.fill_between(range(len(bfv)), bfv, wfv, color=\"lightgray\")\n",
    "plt.plot(bfv, linewidth=2)\n",
    "plt.plot(wfv, linewidth=2)\n",
    "plt.gca().set_title(\"Best and worst values per generation\")"
   ]
  },
  {
   "cell_type": "markdown",
   "metadata": {},
   "source": [
    "#### GA_BDR\n",
    "Parameters:\n",
    "- function calculated: Booth\n",
    "- probability: diversity and fitness rank\n",
    "- selection method: roulette"
   ]
  },
  {
   "cell_type": "code",
   "execution_count": 386,
   "metadata": {},
   "outputs": [],
   "source": [
    "GA_BDR = GeneticAlgorithm(probability_method=\"diversity_and_fitness_rank\", P=0.35, elite_count=15, elite_pool=50, mutation_amount=1, mutation_rate=0.6, elite_mutation_rate=0.4, mutation_decay=0.7, mutation_type=\"one\")\n",
    "\n",
    "population: list[Chromosome] = []\n",
    "population_size = 100\n",
    "for i in range(population_size):\n",
    "    population.append(GA_BDR.random_chromosome())"
   ]
  },
  {
   "cell_type": "code",
   "execution_count": null,
   "metadata": {},
   "outputs": [],
   "source": [
    "save_convergence = True\n",
    "if save_convergence:\n",
    "    final_population, bfv, wfv = GA_BDR.run_algorithm(population, generation_count=100, visualize=True, save_convergence=True, diversity_limit=0.5)\n",
    "else:\n",
    "    final_population = GA_BDR.run_algorithm(population, generation_count=100, visualize=True, save_convergence=False)"
   ]
  },
  {
   "cell_type": "code",
   "execution_count": null,
   "metadata": {},
   "outputs": [],
   "source": [
    "best = max(final_population)\n",
    "print(best.function_value)\n",
    "print(best.genes)\n",
    "\n",
    "plt.fill_between(range(len(bfv)), bfv, wfv, color=\"lightgray\")\n",
    "plt.plot(bfv, linewidth=2)\n",
    "plt.plot(wfv, linewidth=2)\n",
    "plt.gca().set_title(\"Best and worst values per generation\")"
   ]
  },
  {
   "cell_type": "markdown",
   "metadata": {},
   "source": [
    "#### GA_BDT\n",
    "Parameters:\n",
    "- function calculated: Booth\n",
    "- probability: diversity and fitness rank\n",
    "- selection method: tournament"
   ]
  },
  {
   "cell_type": "code",
   "execution_count": 491,
   "metadata": {},
   "outputs": [],
   "source": [
    "GA_BDT = GeneticAlgorithm(probability_method=\"diversity_and_fitness_rank\", selection_method=\"tournament\", contestants=3, P=0.3, elite_count=15, elite_pool=80, mutation_decay=0.6, mutation_rate=0.6, elite_mutation_rate=0.4, mutation_amount=1, mutation_type=\"any\")\n",
    "\n",
    "population: list[Chromosome] = []\n",
    "population_size = 100\n",
    "for i in range(population_size):\n",
    "    population.append(GA_BDT.random_chromosome())"
   ]
  },
  {
   "cell_type": "code",
   "execution_count": null,
   "metadata": {},
   "outputs": [],
   "source": [
    "save_convergence = True\n",
    "if save_convergence:\n",
    "    final_population, bfv, wfv = GA_BDT.run_algorithm(population, generation_count=100, visualize=True, save_convergence=True, diversity_limit=0.5)\n",
    "else:\n",
    "    final_population = GA_BDT.run_algorithm(population, generation_count=100, visualize=True, save_convergence=False)"
   ]
  },
  {
   "cell_type": "code",
   "execution_count": null,
   "metadata": {},
   "outputs": [],
   "source": [
    "best = max(final_population)\n",
    "print(best.function_value)\n",
    "print(best.genes)\n",
    "\n",
    "plt.fill_between(range(len(bfv)), bfv, wfv, color=\"lightgray\")\n",
    "plt.plot(bfv, linewidth=2)\n",
    "plt.plot(wfv, linewidth=2)\n",
    "plt.gca().set_title(\"Best and worst values per generation\")"
   ]
  },
  {
   "cell_type": "markdown",
   "metadata": {},
   "source": [
    "#### GA_BDS\n",
    "Parameters:\n",
    "- function calculated: Booth\n",
    "- probability: diversity and fitness rank\n",
    "- selection method: SUS"
   ]
  },
  {
   "cell_type": "code",
   "execution_count": 562,
   "metadata": {},
   "outputs": [],
   "source": [
    "GA_BDS = GeneticAlgorithm(probability_method=\"diversity_and_fitness_rank\", selection_method=\"SUS\", P=0.2, elite_count=15, elite_pool=60, mutation_amount=1, mutation_type=\"one\")\n",
    "\n",
    "population: list[Chromosome] = []\n",
    "population_size = 100\n",
    "for i in range(population_size):\n",
    "    population.append(GA_BDS.random_chromosome())"
   ]
  },
  {
   "cell_type": "code",
   "execution_count": null,
   "metadata": {},
   "outputs": [],
   "source": [
    "save_convergence = True\n",
    "if save_convergence:\n",
    "    final_population, bfv, wfv = GA_BDS.run_algorithm(population, generation_count=100, visualize=True, save_convergence=True, diversity_limit=0.5)\n",
    "else:\n",
    "    final_population = GA_BDS.run_algorithm(population, generation_count=100, visualize=True, save_convergence=False)"
   ]
  },
  {
   "cell_type": "code",
   "execution_count": null,
   "metadata": {},
   "outputs": [],
   "source": [
    "best = max(final_population)\n",
    "print(best.function_value)\n",
    "print(best.genes)\n",
    "\n",
    "plt.fill_between(range(len(bfv)), bfv, wfv, color=\"lightgray\")\n",
    "plt.plot(bfv, linewidth=2)\n",
    "plt.plot(wfv, linewidth=2)\n",
    "plt.gca().set_title(\"Best and worst values per generation\")"
   ]
  },
  {
   "cell_type": "markdown",
   "metadata": {},
   "source": [
    "### Lévi"
   ]
  },
  {
   "cell_type": "markdown",
   "metadata": {},
   "source": [
    "#### GA_LRR"
   ]
  },
  {
   "cell_type": "code",
   "execution_count": 1824,
   "metadata": {},
   "outputs": [],
   "source": [
    "GA_LRR = GeneticAlgorithm(fitness_function=\"Lévi\", elite_count=15, elite_pool=80, mutation_amount=1)\n",
    "\n",
    "population: list[Chromosome] = []\n",
    "population_size = 100\n",
    "for i in range(population_size):\n",
    "    population.append(GA_LRR.random_chromosome())"
   ]
  },
  {
   "cell_type": "code",
   "execution_count": null,
   "metadata": {},
   "outputs": [],
   "source": [
    "save_convergence = True\n",
    "if save_convergence:\n",
    "    final_population, bfv, wfv = GA_LRR.run_algorithm(population, generation_count=1000, visualize=True, save_convergence=True, diversity_limit=0.5)\n",
    "else:\n",
    "    final_population = GA_LRR.run_algorithm(population, generation_count=100, visualize=True, save_convergence=False)"
   ]
  },
  {
   "cell_type": "code",
   "execution_count": null,
   "metadata": {},
   "outputs": [],
   "source": [
    "best = max(final_population)\n",
    "print(best.function_value)\n",
    "print(best.genes)\n",
    "\n",
    "first_few=100\n",
    "plt.fill_between(range(first_few), bfv[:first_few], wfv[:first_few], color=\"lightgray\")\n",
    "plt.plot(bfv[:first_few], linewidth=2)\n",
    "plt.plot(wfv[:first_few], linewidth=2)\n",
    "plt.gca().set_title(\"Best and worst values per generation\")"
   ]
  },
  {
   "cell_type": "markdown",
   "metadata": {},
   "source": [
    "#### GA_LRT"
   ]
  },
  {
   "cell_type": "code",
   "execution_count": 1837,
   "metadata": {},
   "outputs": [],
   "source": [
    "GA_LRT = GeneticAlgorithm(fitness_function=\"Lévi\", selection_method=\"tournament\", contestants=3, elite_count=15, elite_pool=80, mutation_type=\"one\",mutation_amount=1)\n",
    "\n",
    "population: list[Chromosome] = []\n",
    "population_size = 100\n",
    "for i in range(population_size):\n",
    "    population.append(GA_LRT.random_chromosome())"
   ]
  },
  {
   "cell_type": "code",
   "execution_count": null,
   "metadata": {},
   "outputs": [],
   "source": [
    "save_convergence = True\n",
    "if save_convergence:\n",
    "    final_population, bfv, wfv = GA_LRT.run_algorithm(population, generation_count=1000, visualize=True, save_convergence=True, diversity_limit=0.5)\n",
    "else:\n",
    "    final_population = GA_LRT.run_algorithm(population, generation_count=100, visualize=True, save_convergence=False)"
   ]
  },
  {
   "cell_type": "code",
   "execution_count": null,
   "metadata": {},
   "outputs": [],
   "source": [
    "best = max(final_population)\n",
    "print(best.function_value)\n",
    "print(best.genes)\n",
    "\n",
    "first_few =100\n",
    "plt.fill_between(range(first_few), bfv[:first_few], wfv[:first_few], color=\"lightgray\")\n",
    "plt.plot(bfv[:first_few], linewidth=2)\n",
    "plt.plot(wfv[:first_few], linewidth=2)\n",
    "plt.gca().set_title(\"Best and worst values per generation\")"
   ]
  },
  {
   "cell_type": "markdown",
   "metadata": {},
   "source": [
    "#### GA_LRS"
   ]
  },
  {
   "cell_type": "code",
   "execution_count": 1844,
   "metadata": {},
   "outputs": [],
   "source": [
    "GA_LRS = GeneticAlgorithm(fitness_function=\"Lévi\", selection_method=\"SUS\", elite_count=15, elite_pool=80, mutation_amount=1, mutation_decay=0.75)\n",
    "\n",
    "population: list[Chromosome] = []\n",
    "population_size = 100\n",
    "for i in range(population_size):\n",
    "    population.append(GA_LRS.random_chromosome())"
   ]
  },
  {
   "cell_type": "code",
   "execution_count": null,
   "metadata": {},
   "outputs": [],
   "source": [
    "save_convergence = True\n",
    "if save_convergence:\n",
    "    final_population, bfv, wfv = GA_LRS.run_algorithm(population, generation_count=1000, visualize=True, save_convergence=True, diversity_limit=0.5)\n",
    "else:\n",
    "    final_population = GA_LRS.run_algorithm(population, generation_count=100, visualize=True, save_convergence=False)"
   ]
  },
  {
   "cell_type": "code",
   "execution_count": null,
   "metadata": {},
   "outputs": [],
   "source": [
    "best = max(final_population)\n",
    "print(best.function_value)\n",
    "print(best.genes)\n",
    "\n",
    "first_few = 100\n",
    "plt.fill_between(range(first_few), bfv[:first_few], wfv[:first_few], color=\"lightgray\")\n",
    "plt.plot(bfv[:first_few], linewidth=2)\n",
    "plt.plot(wfv[:first_few], linewidth=2)\n",
    "plt.gca().set_title(\"Best and worst values per generation\")"
   ]
  },
  {
   "cell_type": "markdown",
   "metadata": {},
   "source": [
    "#### GA_LFR"
   ]
  },
  {
   "cell_type": "code",
   "execution_count": 771,
   "metadata": {},
   "outputs": [],
   "source": [
    "GA_LFR = GeneticAlgorithm(fitness_function=\"Lévi\", probability_method=\"fitness_rank\", P=0.3, elite_count=15, elite_pool=80, mutation_amount=1)\n",
    "\n",
    "population: list[Chromosome] = []\n",
    "population_size = 100\n",
    "for i in range(population_size):\n",
    "    population.append(GA_LFR.random_chromosome())"
   ]
  },
  {
   "cell_type": "code",
   "execution_count": null,
   "metadata": {},
   "outputs": [],
   "source": [
    "save_convergence = True\n",
    "if save_convergence:\n",
    "    final_population, bfv, wfv = GA_LFR.run_algorithm(population, generation_count=100, visualize=True, save_convergence=True, diversity_limit=0.5)\n",
    "else:\n",
    "    final_population = GA_LFR.run_algorithm(population, generation_count=100, visualize=True, save_convergence=False)"
   ]
  },
  {
   "cell_type": "code",
   "execution_count": null,
   "metadata": {},
   "outputs": [],
   "source": [
    "best = max(final_population)\n",
    "print(best.function_value)\n",
    "print(best.genes)\n",
    "\n",
    "plt.fill_between(range(len(bfv)), bfv, wfv, color=\"lightgray\")\n",
    "plt.plot(bfv, linewidth=2)\n",
    "plt.plot(wfv, linewidth=2)\n",
    "plt.gca().set_title(\"Best and worst values per generation\")"
   ]
  },
  {
   "cell_type": "markdown",
   "metadata": {},
   "source": [
    "#### GA_LFT"
   ]
  },
  {
   "cell_type": "code",
   "execution_count": 848,
   "metadata": {},
   "outputs": [],
   "source": [
    "GA_LFT = GeneticAlgorithm(fitness_function=\"Lévi\", probability_method=\"fitness_rank\", P=0.3, selection_method=\"tournament\", contestants=5, elite_count=15, elite_pool=80, mutation_amount=0.5)\n",
    "\n",
    "population: list[Chromosome] = []\n",
    "population_size = 100\n",
    "for i in range(population_size):\n",
    "    population.append(GA_LFT.random_chromosome())"
   ]
  },
  {
   "cell_type": "code",
   "execution_count": null,
   "metadata": {},
   "outputs": [],
   "source": [
    "save_convergence = True\n",
    "if save_convergence:\n",
    "    final_population, bfv, wfv = GA_LFT.run_algorithm(population, generation_count=100, visualize=True, save_convergence=True, diversity_limit=0.5)\n",
    "else:\n",
    "    final_population = GA_LFT.run_algorithm(population, generation_count=100, visualize=True, save_convergence=False)"
   ]
  },
  {
   "cell_type": "code",
   "execution_count": null,
   "metadata": {},
   "outputs": [],
   "source": [
    "best = max(final_population)\n",
    "print(best.function_value)\n",
    "print(best.genes)\n",
    "\n",
    "plt.fill_between(range(len(bfv)), bfv, wfv, color=\"lightgray\")\n",
    "plt.plot(bfv, linewidth=2)\n",
    "plt.plot(wfv, linewidth=2)\n",
    "plt.gca().set_title(\"Best and worst values per generation\")"
   ]
  },
  {
   "cell_type": "markdown",
   "metadata": {},
   "source": [
    "#### GA_LFS"
   ]
  },
  {
   "cell_type": "code",
   "execution_count": 887,
   "metadata": {},
   "outputs": [],
   "source": [
    "GA_LFS = GeneticAlgorithm(fitness_function=\"Lévi\", probability_method=\"fitness_rank\", P=0.35, selection_method=\"SUS\", elite_count=15, elite_pool=80, mutation_rate=0.5, elite_mutation_rate=0.3, mutation_decay=0.75)\n",
    "\n",
    "population: list[Chromosome] = []\n",
    "population_size = 100\n",
    "for i in range(population_size):\n",
    "    population.append(GA_LFS.random_chromosome())"
   ]
  },
  {
   "cell_type": "code",
   "execution_count": null,
   "metadata": {},
   "outputs": [],
   "source": [
    "save_convergence = True\n",
    "if save_convergence:\n",
    "    final_population, bfv, wfv = GA_LFS.run_algorithm(population, generation_count=100, visualize=True, save_convergence=True, diversity_limit=0.5)\n",
    "else:\n",
    "    final_population = GA_LFS.run_algorithm(population, generation_count=100, visualize=True, save_convergence=False)"
   ]
  },
  {
   "cell_type": "code",
   "execution_count": null,
   "metadata": {},
   "outputs": [],
   "source": [
    "best = max(final_population)\n",
    "print(best.function_value)\n",
    "print(best.genes)\n",
    "\n",
    "plt.fill_between(range(len(bfv)), bfv, wfv, color=\"lightgray\")\n",
    "plt.plot(bfv, linewidth=2)\n",
    "plt.plot(wfv, linewidth=2)\n",
    "plt.gca().set_title(\"Best and worst values per generation\")"
   ]
  },
  {
   "cell_type": "markdown",
   "metadata": {},
   "source": [
    "#### GA_LDR"
   ]
  },
  {
   "cell_type": "code",
   "execution_count": 931,
   "metadata": {},
   "outputs": [],
   "source": [
    "GA_LDR = GeneticAlgorithm(fitness_function=\"Lévi\", probability_method=\"diversity_and_fitness_rank\", P=0.35, elite_count=15, elite_pool=50, mutation_decay=0.75, mutation_amount=1, mutation_type=\"one\")\n",
    "\n",
    "population: list[Chromosome] = []\n",
    "population_size = 100\n",
    "for i in range(population_size):\n",
    "    population.append(GA_LDR.random_chromosome())"
   ]
  },
  {
   "cell_type": "code",
   "execution_count": null,
   "metadata": {},
   "outputs": [],
   "source": [
    "save_convergence = True\n",
    "if save_convergence:\n",
    "    final_population, bfv, wfv = GA_LDR.run_algorithm(population, generation_count=100, visualize=True, save_convergence=True, diversity_limit=0.5)\n",
    "else:\n",
    "    final_population = GA_LDR.run_algorithm(population, generation_count=100, visualize=True, save_convergence=False)"
   ]
  },
  {
   "cell_type": "code",
   "execution_count": null,
   "metadata": {},
   "outputs": [],
   "source": [
    "best = max(final_population)\n",
    "print(best.function_value)\n",
    "print(best.genes)\n",
    "\n",
    "plt.fill_between(range(len(bfv)), bfv, wfv, color=\"lightgray\")\n",
    "plt.plot(bfv, linewidth=2)\n",
    "plt.plot(wfv, linewidth=2)\n",
    "plt.gca().set_title(\"Best and worst values per generation\")"
   ]
  },
  {
   "cell_type": "markdown",
   "metadata": {},
   "source": [
    "#### GA_LDT"
   ]
  },
  {
   "cell_type": "code",
   "execution_count": 1787,
   "metadata": {},
   "outputs": [],
   "source": [
    "GA_LDT = GeneticAlgorithm(fitness_function=\"Lévi\", probability_method=\"diversity_and_fitness_rank\", P=0.2, selection_method=\"tournament\", contestants=5, elite_count=15, elite_pool=65, mutation_amount=1.5, mutation_decay=0.5)\n",
    "\n",
    "population: list[Chromosome] = []\n",
    "population_size = 100\n",
    "for i in range(population_size):\n",
    "    population.append(GA_LDT.random_chromosome())"
   ]
  },
  {
   "cell_type": "code",
   "execution_count": null,
   "metadata": {},
   "outputs": [],
   "source": [
    "save_convergence = True\n",
    "if save_convergence:\n",
    "    final_population, bfv, wfv = GA_LDT.run_algorithm(population, generation_count=100, visualize=True, save_convergence=True, diversity_limit=0.5)\n",
    "else:\n",
    "    final_population = GA_LDT.run_algorithm(population, generation_count=100, visualize=True, save_convergence=False)"
   ]
  },
  {
   "cell_type": "code",
   "execution_count": null,
   "metadata": {},
   "outputs": [],
   "source": [
    "best = max(final_population)\n",
    "print(best.function_value)\n",
    "print(best.genes)\n",
    "\n",
    "plt.fill_between(range(len(bfv)), bfv, wfv, color=\"lightgray\")\n",
    "plt.plot(bfv, linewidth=2)\n",
    "plt.plot(wfv, linewidth=2)\n",
    "plt.gca().set_title(\"Best and worst values per generation\")"
   ]
  },
  {
   "cell_type": "markdown",
   "metadata": {},
   "source": [
    "#### GA_LDS"
   ]
  },
  {
   "cell_type": "code",
   "execution_count": 1818,
   "metadata": {},
   "outputs": [],
   "source": [
    "GA_LDS = GeneticAlgorithm(fitness_function=\"Lévi\", probability_method=\"diversity_and_fitness_rank\", P=0.15, selection_method=\"SUS\", elite_count=15, elite_pool=80, mutation_amount=0.5)\n",
    "\n",
    "population: list[Chromosome] = []\n",
    "population_size = 100\n",
    "for i in range(population_size):\n",
    "    population.append(GA_LDS.random_chromosome())"
   ]
  },
  {
   "cell_type": "code",
   "execution_count": null,
   "metadata": {},
   "outputs": [],
   "source": [
    "save_convergence = True\n",
    "if save_convergence:\n",
    "    final_population, bfv, wfv = GA_LDS.run_algorithm(population, generation_count=100, visualize=True, save_convergence=True, diversity_limit=0.5)\n",
    "else:\n",
    "    final_population = GA_LDS.run_algorithm(population, generation_count=100, visualize=True, save_convergence=False)"
   ]
  },
  {
   "cell_type": "code",
   "execution_count": null,
   "metadata": {},
   "outputs": [],
   "source": [
    "best = max(final_population)\n",
    "print(best.function_value)\n",
    "print(best.genes)\n",
    "\n",
    "plt.fill_between(range(len(bfv)), bfv, wfv, color=\"lightgray\")\n",
    "plt.plot(bfv, linewidth=2)\n",
    "plt.plot(wfv, linewidth=2)\n",
    "plt.gca().set_title(\"Best and worst values per generation\")"
   ]
  },
  {
   "cell_type": "markdown",
   "metadata": {},
   "source": [
    "### Rastgirin"
   ]
  },
  {
   "cell_type": "markdown",
   "metadata": {},
   "source": [
    "#### GA_R2RR"
   ]
  },
  {
   "cell_type": "code",
   "execution_count": 1174,
   "metadata": {},
   "outputs": [],
   "source": [
    "GA_R2RR = GeneticAlgorithm(fitness_function=\"Rastgirin\", mutation_type=\"any\", mutation_amount=1, mutation_rate=0.5, elite_mutation_rate=0.4, mutation_decay=0.65, elite_count=15, elite_pool=80, A=10, min_gene_value=-5.12, max_gene_value=5.12)\n",
    "\n",
    "population: list[Chromosome] = []\n",
    "population_size = 100\n",
    "for i in range(population_size):\n",
    "    population.append(GA_R2RR.random_chromosome())"
   ]
  },
  {
   "cell_type": "code",
   "execution_count": null,
   "metadata": {},
   "outputs": [],
   "source": [
    "save_convergence = True\n",
    "if save_convergence:\n",
    "    final_population, bfv, wfv = GA_R2RR.run_algorithm(population, generation_count=100, visualize=True, save_convergence=True, diversity_limit=0.5)\n",
    "else:\n",
    "    final_population = GA_R2RR.run_algorithm(population, generation_count=100, visualize=True, save_convergence=False)"
   ]
  },
  {
   "cell_type": "code",
   "execution_count": null,
   "metadata": {},
   "outputs": [],
   "source": [
    "best = max(final_population)\n",
    "print(best.function_value)\n",
    "print(best.genes)\n",
    "\n",
    "plt.fill_between(range(len(bfv)), bfv, wfv, color=\"lightgray\")\n",
    "plt.plot(bfv, linewidth=2)\n",
    "plt.plot(wfv, linewidth=2)\n",
    "plt.gca().set_title(\"Best and worst values per generation\")"
   ]
  },
  {
   "cell_type": "markdown",
   "metadata": {},
   "source": [
    "#### GA_R2RT"
   ]
  },
  {
   "cell_type": "code",
   "execution_count": 1225,
   "metadata": {},
   "outputs": [],
   "source": [
    "GA_R2RT = GeneticAlgorithm(fitness_function=\"Rastgirin\", mutation_rate=0.6, elite_mutation_rate=0.2, mutation_decay=0.3, mutation_amount=1.5, elite_count=15, elite_pool=80, contestants=3, selection_method=\"tournament\", A=10, min_gene_value=-5.12, max_gene_value=5.12)\n",
    "\n",
    "population: list[Chromosome] = []\n",
    "population_size = 100\n",
    "for i in range(population_size):\n",
    "    population.append(GA_R2RT.random_chromosome())"
   ]
  },
  {
   "cell_type": "code",
   "execution_count": null,
   "metadata": {},
   "outputs": [],
   "source": [
    "save_convergence = True\n",
    "if save_convergence:\n",
    "    final_population, bfv, wfv = GA_R2RT.run_algorithm(population, generation_count=100, visualize=True, save_convergence=True, diversity_limit=0.5)\n",
    "else:\n",
    "    final_population = GA_R2RT.run_algorithm(population, generation_count=100, visualize=True, save_convergence=False)"
   ]
  },
  {
   "cell_type": "code",
   "execution_count": null,
   "metadata": {},
   "outputs": [],
   "source": [
    "best = max(final_population)\n",
    "print(best.function_value)\n",
    "print(best.genes)\n",
    "\n",
    "plt.fill_between(range(len(bfv)), bfv, wfv, color=\"lightgray\")\n",
    "plt.plot(bfv, linewidth=2)\n",
    "plt.plot(wfv, linewidth=2)\n",
    "plt.gca().set_title(\"Best and worst values per generation\")"
   ]
  },
  {
   "cell_type": "markdown",
   "metadata": {},
   "source": [
    "#### GA_R2RS"
   ]
  },
  {
   "cell_type": "code",
   "execution_count": 1730,
   "metadata": {},
   "outputs": [],
   "source": [
    "GA_R2RS = GeneticAlgorithm(fitness_function=\"Rastgirin\", elite_count=15, elite_pool=50, mutation_rate=0.5, elite_mutation_rate=0.4,mutation_amount=1, selection_method=\"SUS\", A=10, min_gene_value=-5.12, max_gene_value=5.12)\n",
    "\n",
    "population: list[Chromosome] = []\n",
    "population_size = 100\n",
    "for i in range(population_size):\n",
    "    population.append(GA_R2RS.random_chromosome())"
   ]
  },
  {
   "cell_type": "code",
   "execution_count": null,
   "metadata": {},
   "outputs": [],
   "source": [
    "save_convergence = True\n",
    "if save_convergence:\n",
    "    final_population, bfv, wfv = GA_R2RS.run_algorithm(population, generation_count=10000, visualize=True, save_convergence=True, diversity_limit=0.5)\n",
    "else:\n",
    "    final_population = GA_R2RS.run_algorithm(population, generation_count=100, visualize=True, save_convergence=False)"
   ]
  },
  {
   "cell_type": "code",
   "execution_count": null,
   "metadata": {},
   "outputs": [],
   "source": [
    "best = max(final_population)\n",
    "print(best.function_value)\n",
    "print(best.genes)\n",
    "\n",
    "plt.fill_between(range(len(bfv)), bfv, wfv, color=\"lightgray\")\n",
    "plt.plot(bfv, linewidth=2)\n",
    "plt.plot(wfv, linewidth=2)\n",
    "plt.gca().set_title(\"Best and worst values per generation\")"
   ]
  },
  {
   "cell_type": "markdown",
   "metadata": {},
   "source": [
    "#### GA_R2FR"
   ]
  },
  {
   "cell_type": "code",
   "execution_count": 1334,
   "metadata": {},
   "outputs": [],
   "source": [
    "GA_R2FR = GeneticAlgorithm(fitness_function=\"Rastgirin\", elite_count=15, elite_pool=80, P=0.2, mutation_type=\"one\", mutation_decay=0.6, mutation_amount=2, probability_method=\"fitness_rank\", A=10, min_gene_value=-5.12, max_gene_value=5.12)\n",
    "\n",
    "population: list[Chromosome] = []\n",
    "population_size = 100\n",
    "for i in range(population_size):\n",
    "    population.append(GA_R2FR.random_chromosome())"
   ]
  },
  {
   "cell_type": "code",
   "execution_count": null,
   "metadata": {},
   "outputs": [],
   "source": [
    "save_convergence = True\n",
    "if save_convergence:\n",
    "    final_population, bfv, wfv = GA_R2FR.run_algorithm(population, generation_count=100, visualize=True, save_convergence=True, diversity_limit=0.5)\n",
    "else:\n",
    "    final_population = GA_R2FR.run_algorithm(population, generation_count=100, visualize=True, save_convergence=False)"
   ]
  },
  {
   "cell_type": "code",
   "execution_count": null,
   "metadata": {},
   "outputs": [],
   "source": [
    "best = max(final_population)\n",
    "print(best.function_value)\n",
    "print(best.genes)\n",
    "\n",
    "plt.fill_between(range(len(bfv)), bfv, wfv, color=\"lightgray\")\n",
    "plt.plot(bfv, linewidth=2)\n",
    "plt.plot(wfv, linewidth=2)\n",
    "plt.gca().set_title(\"Best and worst values per generation\")"
   ]
  },
  {
   "cell_type": "markdown",
   "metadata": {},
   "source": [
    "#### GA_R2FT"
   ]
  },
  {
   "cell_type": "code",
   "execution_count": 1745,
   "metadata": {},
   "outputs": [],
   "source": [
    "GA_R2FT = GeneticAlgorithm(fitness_function=\"Rastgirin\", elite_count=15, elite_pool=70, P=0.2, contestants=3, selection_method=\"tournament\", probability_method=\"fitness_rank\", A=10, min_gene_value=-5.12, max_gene_value=5.12)\n",
    "\n",
    "population: list[Chromosome] = []\n",
    "population_size = 100\n",
    "for i in range(population_size):\n",
    "    population.append(GA_R2FT.random_chromosome())"
   ]
  },
  {
   "cell_type": "code",
   "execution_count": null,
   "metadata": {},
   "outputs": [],
   "source": [
    "save_convergence = True\n",
    "if save_convergence:\n",
    "    final_population, bfv, wfv = GA_R2FT.run_algorithm(population, generation_count=10000, visualize=True, save_convergence=True, diversity_limit=0.5)\n",
    "else:\n",
    "    final_population = GA_R2FT.run_algorithm(population, generation_count=100, visualize=True, save_convergence=False)"
   ]
  },
  {
   "cell_type": "code",
   "execution_count": null,
   "metadata": {},
   "outputs": [],
   "source": [
    "best = max(final_population)\n",
    "print(best.function_value)\n",
    "print(best.genes)\n",
    "\n",
    "plt.fill_between(range(len(bfv)), bfv, wfv, color=\"lightgray\")\n",
    "plt.plot(bfv, linewidth=2)\n",
    "plt.plot(wfv, linewidth=2)\n",
    "plt.gca().set_title(\"Best and worst values per generation\")"
   ]
  },
  {
   "cell_type": "markdown",
   "metadata": {},
   "source": [
    "#### GA_R2FS"
   ]
  },
  {
   "cell_type": "code",
   "execution_count": 1418,
   "metadata": {},
   "outputs": [],
   "source": [
    "GA_R2FS = GeneticAlgorithm(fitness_function=\"Rastgirin\", elite_count=15, elite_pool=80, mutation_amount=1, P=0.3, selection_method=\"SUS\", probability_method=\"fitness_rank\", A=10, min_gene_value=-5.12, max_gene_value=5.12)\n",
    "\n",
    "population: list[Chromosome] = []\n",
    "population_size = 100\n",
    "for i in range(population_size):\n",
    "    population.append(GA_R2FS.random_chromosome())"
   ]
  },
  {
   "cell_type": "code",
   "execution_count": null,
   "metadata": {},
   "outputs": [],
   "source": [
    "save_convergence = True\n",
    "if save_convergence:\n",
    "    final_population, bfv, wfv = GA_R2FS.run_algorithm(population, generation_count=100, visualize=True, save_convergence=True, diversity_limit=0.5)\n",
    "else:\n",
    "    final_population = GA_R2FS.run_algorithm(population, generation_count=100, visualize=True, save_convergence=False)"
   ]
  },
  {
   "cell_type": "code",
   "execution_count": null,
   "metadata": {},
   "outputs": [],
   "source": [
    "best = max(final_population)\n",
    "print(best.function_value)\n",
    "print(best.genes)\n",
    "\n",
    "plt.fill_between(range(len(bfv)), bfv, wfv, color=\"lightgray\")\n",
    "plt.plot(bfv, linewidth=2)\n",
    "plt.plot(wfv, linewidth=2)\n",
    "plt.gca().set_title(\"Best and worst values per generation\")"
   ]
  },
  {
   "cell_type": "markdown",
   "metadata": {},
   "source": [
    "#### GA_R2DR"
   ]
  },
  {
   "cell_type": "code",
   "execution_count": 1470,
   "metadata": {},
   "outputs": [],
   "source": [
    "GA_R2DR = GeneticAlgorithm(fitness_function=\"Rastgirin\", elite_count=20, elite_pool=50, mutation_amount=1, mutation_decay=0.5, P=0.35, probability_method=\"diversity_and_fitness_rank\", A=10, min_gene_value=-5.12, max_gene_value=5.12)\n",
    "\n",
    "population: list[Chromosome] = []\n",
    "population_size = 100\n",
    "for i in range(population_size):\n",
    "    population.append(GA_R2DR.random_chromosome())"
   ]
  },
  {
   "cell_type": "code",
   "execution_count": null,
   "metadata": {},
   "outputs": [],
   "source": [
    "save_convergence = True\n",
    "if save_convergence:\n",
    "    final_population, bfv, wfv = GA_R2DR.run_algorithm(population, generation_count=100, visualize=True, save_convergence=True, diversity_limit=0.5)\n",
    "else:\n",
    "    final_population = GA_R2DR.run_algorithm(population, generation_count=100, visualize=True, save_convergence=False)"
   ]
  },
  {
   "cell_type": "code",
   "execution_count": null,
   "metadata": {},
   "outputs": [],
   "source": [
    "best = max(final_population)\n",
    "print(best.function_value)\n",
    "print(best.genes)\n",
    "\n",
    "plt.fill_between(range(len(bfv)), bfv, wfv, color=\"lightgray\")\n",
    "plt.plot(bfv, linewidth=2)\n",
    "plt.plot(wfv, linewidth=2)\n",
    "plt.gca().set_title(\"Best and worst values per generation\")"
   ]
  },
  {
   "cell_type": "markdown",
   "metadata": {},
   "source": [
    "#### GA_R2DT"
   ]
  },
  {
   "cell_type": "code",
   "execution_count": 1519,
   "metadata": {},
   "outputs": [],
   "source": [
    "GA_R2DT = GeneticAlgorithm(fitness_function=\"Rastgirin\", elite_count=15, elite_pool=50,mutation_type=\"one\", mutation_decay=0.3, mutation_rate=0.7, elite_mutation_rate=0.5, mutation_amount=1, P=0.35, contestants=3, selection_method=\"tournament\", probability_method=\"diversity_and_fitness_rank\", A=10, min_gene_value=-5.12, max_gene_value=5.12)\n",
    "\n",
    "population: list[Chromosome] = []\n",
    "population_size = 100\n",
    "for i in range(population_size):\n",
    "    population.append(GA_R2DT.random_chromosome())"
   ]
  },
  {
   "cell_type": "code",
   "execution_count": null,
   "metadata": {},
   "outputs": [],
   "source": [
    "save_convergence = True\n",
    "if save_convergence:\n",
    "    final_population, bfv, wfv = GA_R2DT.run_algorithm(population, generation_count=100, visualize=True, save_convergence=True, diversity_limit=0.5)\n",
    "else:\n",
    "    final_population = GA_R2DT.run_algorithm(population, generation_count=100, visualize=True, save_convergence=False)"
   ]
  },
  {
   "cell_type": "code",
   "execution_count": null,
   "metadata": {},
   "outputs": [],
   "source": [
    "best = max(final_population)\n",
    "print(best.function_value)\n",
    "print(best.genes)\n",
    "\n",
    "plt.fill_between(range(len(bfv)), bfv, wfv, color=\"lightgray\")\n",
    "plt.plot(bfv, linewidth=2)\n",
    "plt.plot(wfv, linewidth=2)\n",
    "plt.gca().set_title(\"Best and worst values per generation\")"
   ]
  },
  {
   "cell_type": "markdown",
   "metadata": {},
   "source": [
    "#### GA_R2DS"
   ]
  },
  {
   "cell_type": "code",
   "execution_count": 1581,
   "metadata": {},
   "outputs": [],
   "source": [
    "GA_R2DS = GeneticAlgorithm(fitness_function=\"Rastgirin\", elite_count=15, elite_pool=30, mutation_amount=1, mutation_rate=0.7, mutation_type=\"one\", elite_mutation_rate=0.3, mutation_decay=0.3, P=0.35, selection_method=\"SUS\", probability_method=\"diversity_and_fitness_rank\", A=10, min_gene_value=-5.12, max_gene_value=5.12)\n",
    "\n",
    "population: list[Chromosome] = []\n",
    "population_size = 100\n",
    "for i in range(population_size):\n",
    "    population.append(GA_R2DS.random_chromosome())"
   ]
  },
  {
   "cell_type": "code",
   "execution_count": null,
   "metadata": {},
   "outputs": [],
   "source": [
    "save_convergence = True\n",
    "if save_convergence:\n",
    "    final_population, bfv, wfv = GA_R2DS.run_algorithm(population, generation_count=100, visualize=True, save_convergence=True, diversity_limit=0.5)\n",
    "else:\n",
    "    final_population = GA_R2DS.run_algorithm(population, generation_count=100, visualize=True, save_convergence=False)"
   ]
  },
  {
   "cell_type": "code",
   "execution_count": null,
   "metadata": {},
   "outputs": [],
   "source": [
    "best = max(final_population)\n",
    "print(best.function_value)\n",
    "print(best.genes)\n",
    "\n",
    "plt.fill_between(range(len(bfv)), bfv, wfv, color=\"lightgray\")\n",
    "plt.plot(bfv, linewidth=2)\n",
    "plt.plot(wfv, linewidth=2)\n",
    "plt.gca().set_title(\"Best and worst values per generation\")"
   ]
  },
  {
   "cell_type": "markdown",
   "metadata": {},
   "source": [
    "#### n-dimenziós Rastgirin"
   ]
  },
  {
   "cell_type": "code",
   "execution_count": 1678,
   "metadata": {},
   "outputs": [],
   "source": [
    "n_dim_rastgirin = GeneticAlgorithm(fitness_function=\"Rastgirin\", probability_method=\"fitness_rank\", P=0.2, selection_method=\"SUS\", contestants=5, crossover_points=100, mutation_rate=0.6, elite_mutation_rate=0.4, mutation_decay=0.5, elite_count=20, elite_pool=75, mutation_type=\"one\", min_gene_value=-5.12, max_gene_value=5.12, A=10)\n",
    "\n",
    "population: list[Chromosome] = []\n",
    "population_size = 100\n",
    "for i in range(population_size):\n",
    "    population.append(n_dim_rastgirin.random_chromosome(gene_count=500))\n"
   ]
  },
  {
   "cell_type": "code",
   "execution_count": 1679,
   "metadata": {},
   "outputs": [],
   "source": [
    "save_convergence = True\n",
    "if save_convergence:\n",
    "    final_population, bfv, wfv = n_dim_rastgirin.run_algorithm(population, generation_count=30000, save_convergence=True, diversity_limit=0.5)\n",
    "else:\n",
    "    final_population = n_dim_rastgirin.run_algorithm(population, generation_count=100, visualize=True, save_convergence=False)"
   ]
  },
  {
   "cell_type": "code",
   "execution_count": null,
   "metadata": {},
   "outputs": [],
   "source": [
    "best = max(final_population)\n",
    "print(best.function_value)\n",
    "print(best.genes)\n",
    "\n",
    "last_few = 10000\n",
    "#plt.fill_between(range(len(bfv)), bfv, wfv, color=\"lightgray\")\n",
    "plt.fill_between(range(last_few), bfv[-last_few:], wfv[-last_few:], color=\"lightgray\")\n",
    "plt.plot(bfv[-last_few:], linewidth=2)\n",
    "plt.plot(wfv[-last_few:], linewidth=2)\n",
    "plt.gca().set_title(\"Best and worst values per generation\")"
   ]
  }
 ],
 "metadata": {
  "kernelspec": {
   "display_name": "Python 3",
   "language": "python",
   "name": "python3"
  },
  "language_info": {
   "codemirror_mode": {
    "name": "ipython",
    "version": 3
   },
   "file_extension": ".py",
   "mimetype": "text/x-python",
   "name": "python",
   "nbconvert_exporter": "python",
   "pygments_lexer": "ipython3",
   "version": "3.11.5"
  }
 },
 "nbformat": 4,
 "nbformat_minor": 2
}
